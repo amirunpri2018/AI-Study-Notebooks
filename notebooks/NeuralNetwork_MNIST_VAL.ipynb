{
 "cells": [
  {
   "cell_type": "markdown",
   "metadata": {},
   "source": [
    "### Neural Network"
   ]
  },
  {
   "cell_type": "code",
   "execution_count": 1,
   "metadata": {},
   "outputs": [
    {
     "data": {
      "text/plain": [
       "{'divide': 'warn', 'over': 'warn', 'under': 'ignore', 'invalid': 'warn'}"
      ]
     },
     "execution_count": 1,
     "metadata": {},
     "output_type": "execute_result"
    }
   ],
   "source": [
    "import numpy as np\n",
    "import matplotlib.pyplot as plt\n",
    "import pandas as pd\n",
    "from sklearn.model_selection import train_test_split\n",
    "from sklearn.metrics import accuracy_score, classification_report, confusion_matrix\n",
    "from sklearn.neural_network import MLPClassifier\n",
    "from sklearn.datasets import load_digits\n",
    "\n",
    "%matplotlib inline\n",
    "\n",
    "np.seterr(all='raise')"
   ]
  },
  {
   "cell_type": "code",
   "execution_count": 2,
   "metadata": {},
   "outputs": [
    {
     "name": "stdout",
     "output_type": "stream",
     "text": [
      "Qtd Digits:  1797\n"
     ]
    },
    {
     "data": {
      "image/png": "[encoded data removed]",
      "text/plain": [
       "<Figure size 432x288 with 4 Axes>"
      ]
     },
     "metadata": {
      "needs_background": "light"
     },
     "output_type": "display_data"
    }
   ],
   "source": [
    "digits = load_digits()\n",
    "images_and_labels = list(zip(digits.images, digits.target))\n",
    "for index, (image, label) in enumerate(images_and_labels[:4]):\n",
    "    plt.subplot(2, 4, index + 1)\n",
    "    plt.axis('off')\n",
    "    plt.imshow(image, cmap='gray', interpolation='bilinear')\n",
    "    plt.title('Training: %i' % label)\n",
    "\n",
    "n_samples = len(digits.images)\n",
    "print('Qtd Digits: ', n_samples)\n",
    "\n",
    "# Data preparation\n",
    "# Flatten\n",
    "X = digits.images.reshape((n_samples, -1))\n",
    "# Normalization, from 0 to 1\n",
    "X = X / 255.\n",
    "# Targets\n",
    "y = digits.target\n",
    "# Split train and test\n",
    "X_train, X_test, y_train, y_test = train_test_split(X, y, test_size=0.3, random_state=0)"
   ]
  },
  {
   "cell_type": "code",
   "execution_count": 3,
   "metadata": {},
   "outputs": [
    {
     "name": "stdout",
     "output_type": "stream",
     "text": [
      "[0 0 0 0 0 0 0 0 0 4 0 0 0 0 0 0 0 0 0 0 0 0 0 0 0 0 0 0 0 0 0 0 0 0 0 0 0\n",
      " 0 0 0 0 0 0 0 0 0 0 0 0 0 0 0 0 0 0 0 0 0 0 0 0 0 0 0 0 0 0 0 0 0 0 0 0 0\n",
      " 0 0 0 0 0 0 0 0 0 0 0 0 4 0 0 0 0 0 0 0 0 0 0 0 0 0 0 0 0 0 0 0 0 0 0 0 0\n",
      " 0 0 0 0 0 0 0 0 0 0 0 0 0 0 0 0 0 0 0 0 0 0 0 0 0 0 0 0 0 0 0 0 0 0 0 0 0\n",
      " 0 0 0 0 0 0 0 0 0 0 0 0 0 0 0 0 0 0 0 0 0 0 0 4 0 0 0 0 0 0 0 0 0 0 0 0 0\n",
      " 0 0 0 0 0 0 0 4 0 0 4 0 0 0 0 0 0 0 0 0 0 0 0 0 0 0 0 0 0 0 0 0 0 0 0 0 0\n",
      " 0 0 0 0 0 0 0 0 0 0 0 0 0 0 0 0 0 0 0 0 0 0 0 0 0 0 0 0 0 0 0 0 0 0 0 0 0\n",
      " 0 0 0 0 0 0 0 0 0 0 0 0 0 0 0 0 0 0 0 0 0 0 0 0 0 0 0 0 0 0 0 0 0 0 0 0 0\n",
      " 0 0 0 0 0 0 0 0 0 0 0 0 0 0 0 0 0 0 0 0 0 0 0 0 0 0 0 0 0 0 4 0 0 0 0 0 0\n",
      " 0 0 0 0 0 0 0 0 0 0 0 0 0 0 0 0 0 0 0 0 0 0 0 0 0 0 0 0 0 0 0 0 0 0 0 0 0\n",
      " 0 0 0 0 0 0 0 0 0 0 0 0 0 0 0 0 0 0 0 0 0 0 0 0 0 0 0 0 0 0 0 0 0 0 0 0 0\n",
      " 0 0 0 0 0 0 0 0 0 0 0 0 0 0 0 0 0 0 0 0 0 0 0 0 0 0 0 0 0 0 0 0 0 0 0 0 0\n",
      " 0 0 0 0 0 0 0 0 0 0 0 0 0 0 0 0 0 0 0 0 0 0 0 0 0 0 0 0 0 0 0 0 0 0 0 0 0\n",
      " 0 0 0 0 0 0 0 0 0 0 0 0 0 0 0 0 0 0 0 0 0 0 0 0 0 0 0 0 0 0 0 0 0 0 0 0 0\n",
      " 0 0 0 0 0 0 0 0 0 0 0 0 0 0 0 0 0 0 0 0 0 0]\n",
      "Acurácia: 8.33%\n",
      "Classification report for classifier \n",
      "              precision    recall  f1-score   support\n",
      "\n",
      "           0       0.08      1.00      0.16        45\n",
      "           1       0.00      0.00      0.00        52\n",
      "           2       0.00      0.00      0.00        53\n",
      "           3       0.00      0.00      0.00        54\n",
      "           4       0.00      0.00      0.00        48\n",
      "           5       0.00      0.00      0.00        57\n",
      "           6       0.00      0.00      0.00        60\n",
      "           7       0.00      0.00      0.00        53\n",
      "           8       0.00      0.00      0.00        61\n",
      "           9       0.00      0.00      0.00        57\n",
      "\n",
      "   micro avg       0.08      0.08      0.08       540\n",
      "   macro avg       0.01      0.10      0.02       540\n",
      "weighted avg       0.01      0.08      0.01       540\n",
      "\n",
      "\n",
      "--------------------\n",
      "Confusion matrix:\n",
      "[[45  0  0  0  0  0  0  0  0  0]\n",
      " [51  0  0  0  1  0  0  0  0  0]\n",
      " [53  0  0  0  0  0  0  0  0  0]\n",
      " [54  0  0  0  0  0  0  0  0  0]\n",
      " [48  0  0  0  0  0  0  0  0  0]\n",
      " [55  0  0  0  2  0  0  0  0  0]\n",
      " [60  0  0  0  0  0  0  0  0  0]\n",
      " [50  0  0  0  3  0  0  0  0  0]\n",
      " [61  0  0  0  0  0  0  0  0  0]\n",
      " [57  0  0  0  0  0  0  0  0  0]]\n"
     ]
    },
    {
     "name": "stderr",
     "output_type": "stream",
     "text": [
      "/home/rdenadai/.pyenv/versions/3.7.2/lib/python3.7/site-packages/sklearn/metrics/classification.py:1143: UndefinedMetricWarning: Precision and F-score are ill-defined and being set to 0.0 in labels with no predicted samples.\n",
      "  'precision', 'predicted', average, warn_for)\n"
     ]
    },
    {
     "data": {
      "image/png": "[encoded data removed]",
      "text/plain": [
       "<Figure size 576x288 with 1 Axes>"
      ]
     },
     "metadata": {
      "needs_background": "light"
     },
     "output_type": "display_data"
    }
   ],
   "source": [
    "from src.nn import Dense, NeuralNetwork\n",
    "\n",
    "final_error = []\n",
    "better_acc = 0\n",
    "\n",
    "layers = (\n",
    "    Dense(inputs=64, outputs=64, activation='relu'),\n",
    "    Dense(inputs=64, outputs=16, activation='relu'), \n",
    "    Dense(inputs=16, outputs=10, activation='softmax'), \n",
    ")\n",
    "\n",
    "md = NeuralNetwork(layers, X_train.copy(), y_train.copy(), loss='cross_entropy')\n",
    "error = md.train(epochs=7000, lr=1e-1)\n",
    "\n",
    "y_pred = md.predict(X_test.copy())\n",
    "print(y_pred)\n",
    "\n",
    "acc = np.round((np.sum(y_pred == y_test) / len(y_test)) * 100, 2)\n",
    "if acc > better_acc:\n",
    "    better_acc = acc\n",
    "final_error = error\n",
    "print(f'Acurácia: {acc}%')\n",
    "\n",
    "print(\"Classification report for classifier \\n%s\\n\"\n",
    "      % (classification_report(y_test, y_pred)))\n",
    "print('-' * 20)\n",
    "print(\"Confusion matrix:\\n%s\" % confusion_matrix(y_test, y_pred))\n",
    "\n",
    "if len(final_error):\n",
    "    plt.figure(figsize=(8, 4))\n",
    "    plt.subplot(1, 2, 1)\n",
    "    plt.title(f'Error {better_acc}%')\n",
    "    plt.plot(range(len(final_error)), final_error)\n",
    "    plt.tight_layout()\n",
    "    plt.show()"
   ]
  },
  {
   "cell_type": "code",
   "execution_count": null,
   "metadata": {},
   "outputs": [],
   "source": []
  }
 ],
 "metadata": {
  "kernelspec": {
   "display_name": "Python 3",
   "language": "python",
   "name": "python3"
  },
  "language_info": {
   "codemirror_mode": {
    "name": "ipython",
    "version": 3
   },
   "file_extension": ".py",
   "mimetype": "text/x-python",
   "name": "python",
   "nbconvert_exporter": "python",
   "pygments_lexer": "ipython3",
   "version": "3.7.2"
  }
 },
 "nbformat": 4,
 "nbformat_minor": 2
}

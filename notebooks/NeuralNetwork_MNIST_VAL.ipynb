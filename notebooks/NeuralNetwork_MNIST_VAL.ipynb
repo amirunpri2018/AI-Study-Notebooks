{
 "cells": [
  {
   "cell_type": "markdown",
   "metadata": {},
   "source": [
    "### Neural Network"
   ]
  },
  {
   "cell_type": "code",
   "execution_count": 1,
   "metadata": {
    "ExecuteTime": {
     "end_time": "2019-03-12T13:57:03.331128Z",
     "start_time": "2019-03-12T13:56:55.294018Z"
    }
   },
   "outputs": [
    {
     "data": {
      "text/plain": [
       "{'divide': 'warn', 'over': 'warn', 'under': 'ignore', 'invalid': 'warn'}"
      ]
     },
     "execution_count": 1,
     "metadata": {},
     "output_type": "execute_result"
    }
   ],
   "source": [
    "import numpy as np\n",
    "import matplotlib.pyplot as plt\n",
    "import pandas as pd\n",
    "from sklearn.model_selection import train_test_split\n",
    "from sklearn.metrics import accuracy_score, classification_report, confusion_matrix\n",
    "from sklearn.neural_network import MLPClassifier\n",
    "from sklearn.datasets import load_digits\n",
    "\n",
    "%matplotlib inline\n",
    "\n",
    "np.seterr(all='raise')"
   ]
  },
  {
   "cell_type": "code",
   "execution_count": 2,
   "metadata": {
    "ExecuteTime": {
     "end_time": "2019-03-12T13:57:03.783164Z",
     "start_time": "2019-03-12T13:57:03.333159Z"
    }
   },
   "outputs": [
    {
     "name": "stdout",
     "output_type": "stream",
     "text": [
      "Qtd Digits:  1797\n"
     ]
    },
    {
     "data": {
      "image/png": "[encoded data removed]",
      "text/plain": [
       "<Figure size 432x288 with 4 Axes>"
      ]
     },
     "metadata": {
      "needs_background": "light"
     },
     "output_type": "display_data"
    }
   ],
   "source": [
    "digits = load_digits()\n",
    "images_and_labels = list(zip(digits.images, digits.target))\n",
    "for index, (image, label) in enumerate(images_and_labels[:4]):\n",
    "    plt.subplot(2, 4, index + 1)\n",
    "    plt.axis('off')\n",
    "    plt.imshow(image, cmap='gray', interpolation='bilinear')\n",
    "    plt.title('Training: %i' % label)\n",
    "\n",
    "n_samples = len(digits.images)\n",
    "print('Qtd Digits: ', n_samples)\n",
    "\n",
    "# Data preparation\n",
    "# Flatten\n",
    "X = digits.images.reshape((n_samples, -1))\n",
    "# Normalization, from 0 to 1\n",
    "X = X / 255.\n",
    "# Targets\n",
    "y = digits.target\n",
    "# Split train and test\n",
    "X_train, X_test, y_train, y_test = train_test_split(X, y, test_size=0.3, random_state=0)"
   ]
  },
  {
   "cell_type": "code",
   "execution_count": 150,
   "metadata": {
    "ExecuteTime": {
     "end_time": "2019-03-12T15:49:38.913489Z",
     "start_time": "2019-03-12T15:49:38.880436Z"
    }
   },
   "outputs": [],
   "source": [
    "import math\n",
    "import numpy as np\n",
    "import pandas as pd\n",
    "\n",
    "\n",
    "class Layer:\n",
    "\n",
    "    def __init__(self):\n",
    "        self._name = 0\n",
    "\n",
    "    def init(self, name):\n",
    "        self._name = name\n",
    "\n",
    "    def __str__(self):\n",
    "        return f'Layer: {self._name}'\n",
    "    \n",
    "    def __repr__(self):\n",
    "        return f'Layer: {self._name}'\n",
    "\n",
    "\n",
    "class Dense(Layer):\n",
    "\n",
    "    def __init__(self, inputs=1, outputs=1, activation='sigmoid'):\n",
    "        super().__init__()\n",
    "        self.W = np.random.rand(inputs, outputs) * np.sqrt(2 / (outputs + inputs))\n",
    "        self.B = np.zeros((1, outputs))\n",
    "        self.A = np.zeros((inputs, self.W.shape[0]))\n",
    "        \n",
    "        if activation == 'sigmoid':\n",
    "            self._activation = self._sigmoid\n",
    "        elif activation == 'relu':\n",
    "            self._activation = self._relu\n",
    "        elif activation == 'tahn':\n",
    "            self._activation = self._tahn\n",
    "        elif activation == 'softmax':\n",
    "            self._activation = self._softmax\n",
    "\n",
    "    def _sigmoid(self, Z, deriv=False):\n",
    "        if deriv:\n",
    "            return Z * (1 - Z)\n",
    "        return 1. / (1 + np.exp(-Z))\n",
    "    \n",
    "    def _relu(self, Z, deriv=False):\n",
    "        if deriv:\n",
    "            return 1. * (Z > 0)\n",
    "        return np.maximum(0, Z)\n",
    "\n",
    "    def _tahn(self, Z, deriv=False):\n",
    "        K = np.tanh(Z)\n",
    "        if deriv:\n",
    "            return 1 - (K**2)\n",
    "        return K\n",
    "\n",
    "    def _softmax(self, Z, deriv=False):\n",
    "        y = np.exp(Z - Z.max())\n",
    "        return y / np.sum(y, axis=1, keepdims=True)\n",
    "\n",
    "    def forward(self, Z):\n",
    "        self.A = self._activation(Z.dot(self.W) + self.B)\n",
    "        return self.A\n",
    "\n",
    "    def gradient(self, error):\n",
    "        # Clipping to avoid exploding gradients\n",
    "        return np.clip(error * self._activation(self.A, deriv=True), -1.5, 1.5)\n",
    "\n",
    "\n",
    "class NeuralNetwork:\n",
    "\n",
    "    def __init__(self, layers, X, y, tol=1e-4, loss='mse'):\n",
    "        # That is why we seed the generator - to make sure that we always get the same random numbers.\n",
    "        np.random.seed(0)\n",
    "        \n",
    "        # Naming the layers (indexing)\n",
    "        self._total_layers = len(layers)\n",
    "        for k in range(self._total_layers):\n",
    "            layers[k].init(k)\n",
    "\n",
    "        # Initialization\n",
    "        self._layers = layers\n",
    "        self._X = X\n",
    "        self._y = y\n",
    "        \n",
    "        self._tol = tol\n",
    "        self._loss = self._mse\n",
    "        if loss == 'cross_entropy':\n",
    "            self._loss = self._cross_entropy\n",
    "        self._y = self._one_hot_encode(self._y)\n",
    "        \n",
    "        self._total_samples = 1. / self._y.shape[0]\n",
    "        self._mem_weights = {}\n",
    "\n",
    "    def predict(self, Z):\n",
    "        return np.argmax(self._forward(Z), axis=1)\n",
    "\n",
    "    def _one_hot_encode(self, y):\n",
    "        return pd.get_dummies(y).values\n",
    "    \n",
    "    def _mse(self, y, Z):\n",
    "        return np.sum((Z-y)**2) * self._total_samples\n",
    "\n",
    "    def _cross_entropy(self, y, Z):\n",
    "        Z = Z.clip(min=1e-12)\n",
    "        return -np.sum(y * np.log(Z)) * self._total_samples\n",
    "        # return -(np.sum(y * np.log(err) + (1-y) * np.log(1-err))) * self._total_samples\n",
    "    \n",
    "    def _forward(self, Z):\n",
    "        for i, layer in enumerate(self._layers):\n",
    "            Z = layer.forward(Z)\n",
    "        return Z\n",
    "\n",
    "    def _backward(self, X, E_prev):\n",
    "        # First Layer\n",
    "        last_layer = self._layers[-1]\n",
    "        delta = E_prev\n",
    "        self._mem_weights[f'{last_layer}'] = (\n",
    "            self._layers[-2].A.T.dot(delta),  # dW \n",
    "            np.sum(delta, axis=0)  # dB\n",
    "        )\n",
    "\n",
    "        # Hidden Layers\n",
    "        k = len(self._layers)-2\n",
    "        for layer in reversed(self._layers[1:len(self._layers)-1]):\n",
    "            E_prev = E_prev.dot(last_layer.W.T)\n",
    "            last_layer = layer\n",
    "            delta = last_layer.gradient(E_prev)\n",
    "            self._mem_weights[f'{last_layer}'] = (\n",
    "                self._layers[(k-1)].A.T.dot(delta),  # dW \n",
    "                np.sum(delta, axis=0)  # dB\n",
    "            )\n",
    "            k -= 1\n",
    "\n",
    "        # Last Layer\n",
    "        E_prev = E_prev.dot(last_layer.W.T)\n",
    "        last_layer = self._layers[0]\n",
    "        delta = last_layer.gradient(E_prev)\n",
    "        self._mem_weights[f'{last_layer}'] = (\n",
    "            X.T.dot(delta),  # dW\n",
    "            np.sum(delta, axis=0)  # dB\n",
    "        )\n",
    "\n",
    "    def _update_weights(self, m, lr):\n",
    "        for layer in reversed(self._layers):\n",
    "            W, B = self._mem_weights[f'{layer}']\n",
    "            layer.W -= lr * (W * m)\n",
    "            layer.B -= lr * (B * m)\n",
    "\n",
    "    def _shuffle(self, X, y):\n",
    "        permutation = np.random.permutation(X.shape[0])\n",
    "        return X[permutation], y[permutation]\n",
    "\n",
    "    def train(self, epochs=1500, lr=1e-3, batch_size=32):\n",
    "        error_step = []\n",
    "        total_expected_error = 0\n",
    "\n",
    "        # Batch size iteration\n",
    "        mb = math.ceil(self._X.shape[0] / batch_size)\n",
    "        m = 1. / batch_size\n",
    "\n",
    "        iter_n = 0\n",
    "        for ep, epoch in enumerate(range(epochs)):\n",
    "            # Shuffle dataset in each epoch\n",
    "            X, y = self._shuffle(self._X.copy(), self._y.copy())\n",
    "\n",
    "            # Mini batch\n",
    "            total_error = 0\n",
    "            k = 0\n",
    "            for _ in range(mb):\n",
    "                # Mini batch crop\n",
    "                ini, end = k * batch_size, (k + 1) * batch_size\n",
    "                batch_X, batch_y = X[ini:end, :], y[ini:end, :]\n",
    "                k += 1\n",
    "\n",
    "                # Forward\n",
    "                Z = self._forward(batch_X)\n",
    "                \n",
    "                # Loss\n",
    "                err = Z - batch_y  # error\n",
    "                \n",
    "                # Backward / Backprop\n",
    "                self._backward(batch_X, err)\n",
    "\n",
    "                # Update weights and bias\n",
    "                self._update_weights(m, lr)\n",
    "\n",
    "                # Cost\n",
    "                total_error += self._loss(batch_y, Z)\n",
    "            \n",
    "            if np.abs(total_expected_error-total_error) < self._tol:\n",
    "                iter_n += 1\n",
    "            # Early stop, no improvements after 10 iterations\n",
    "            if iter_n >= 10:\n",
    "                return np.array(error_step)\n",
    "            total_expected_error = total_error\n",
    "            error_step.append(total_error)\n",
    "        return np.array(error_step)"
   ]
  },
  {
   "cell_type": "code",
   "execution_count": 151,
   "metadata": {
    "ExecuteTime": {
     "end_time": "2019-03-12T15:49:39.322011Z",
     "start_time": "2019-03-12T15:49:39.295359Z"
    }
   },
   "outputs": [
    {
     "ename": "ValueError",
     "evalue": "operands could not be broadcast together with shapes (100,200) (100,10) (100,200) ",
     "output_type": "error",
     "traceback": [
      "\u001b[0;31m---------------------------------------------------------------------------\u001b[0m",
      "\u001b[0;31mValueError\u001b[0m                                Traceback (most recent call last)",
      "\u001b[0;32m<ipython-input-151-35937b3e04dd>\u001b[0m in \u001b[0;36m<module>\u001b[0;34m\u001b[0m\n\u001b[1;32m     11\u001b[0m \u001b[0;34m\u001b[0m\u001b[0m\n\u001b[1;32m     12\u001b[0m \u001b[0mmd\u001b[0m \u001b[0;34m=\u001b[0m \u001b[0mNeuralNetwork\u001b[0m\u001b[0;34m(\u001b[0m\u001b[0mlayers\u001b[0m\u001b[0;34m,\u001b[0m \u001b[0mX_train\u001b[0m\u001b[0;34m.\u001b[0m\u001b[0mcopy\u001b[0m\u001b[0;34m(\u001b[0m\u001b[0;34m)\u001b[0m\u001b[0;34m,\u001b[0m \u001b[0my_train\u001b[0m\u001b[0;34m.\u001b[0m\u001b[0mcopy\u001b[0m\u001b[0;34m(\u001b[0m\u001b[0;34m)\u001b[0m\u001b[0;34m,\u001b[0m \u001b[0mloss\u001b[0m\u001b[0;34m=\u001b[0m\u001b[0;34m'cross_entropy'\u001b[0m\u001b[0;34m)\u001b[0m\u001b[0;34m\u001b[0m\u001b[0;34m\u001b[0m\u001b[0m\n\u001b[0;32m---> 13\u001b[0;31m \u001b[0merror\u001b[0m \u001b[0;34m=\u001b[0m \u001b[0mmd\u001b[0m\u001b[0;34m.\u001b[0m\u001b[0mtrain\u001b[0m\u001b[0;34m(\u001b[0m\u001b[0mepochs\u001b[0m\u001b[0;34m=\u001b[0m\u001b[0;36m145\u001b[0m\u001b[0;34m,\u001b[0m \u001b[0mlr\u001b[0m\u001b[0;34m=\u001b[0m\u001b[0;36m1e-1\u001b[0m\u001b[0;34m)\u001b[0m\u001b[0;34m\u001b[0m\u001b[0;34m\u001b[0m\u001b[0m\n\u001b[0m\u001b[1;32m     14\u001b[0m \u001b[0;34m\u001b[0m\u001b[0m\n\u001b[1;32m     15\u001b[0m \u001b[0my_pred\u001b[0m \u001b[0;34m=\u001b[0m \u001b[0mmd\u001b[0m\u001b[0;34m.\u001b[0m\u001b[0mpredict\u001b[0m\u001b[0;34m(\u001b[0m\u001b[0mX_test\u001b[0m\u001b[0;34m.\u001b[0m\u001b[0mcopy\u001b[0m\u001b[0;34m(\u001b[0m\u001b[0;34m)\u001b[0m\u001b[0;34m)\u001b[0m\u001b[0;34m\u001b[0m\u001b[0;34m\u001b[0m\u001b[0m\n",
      "\u001b[0;32m<ipython-input-150-99c8306653ef>\u001b[0m in \u001b[0;36mtrain\u001b[0;34m(self, epochs, lr, batch_size)\u001b[0m\n\u001b[1;32m    182\u001b[0m \u001b[0;34m\u001b[0m\u001b[0m\n\u001b[1;32m    183\u001b[0m                 \u001b[0;31m# Update weights and bias\u001b[0m\u001b[0;34m\u001b[0m\u001b[0;34m\u001b[0m\u001b[0;34m\u001b[0m\u001b[0m\n\u001b[0;32m--> 184\u001b[0;31m                 \u001b[0mself\u001b[0m\u001b[0;34m.\u001b[0m\u001b[0m_update_weights\u001b[0m\u001b[0;34m(\u001b[0m\u001b[0mm\u001b[0m\u001b[0;34m,\u001b[0m \u001b[0mlr\u001b[0m\u001b[0;34m)\u001b[0m\u001b[0;34m\u001b[0m\u001b[0;34m\u001b[0m\u001b[0m\n\u001b[0m\u001b[1;32m    185\u001b[0m \u001b[0;34m\u001b[0m\u001b[0m\n\u001b[1;32m    186\u001b[0m                 \u001b[0;31m# Cost\u001b[0m\u001b[0;34m\u001b[0m\u001b[0;34m\u001b[0m\u001b[0;34m\u001b[0m\u001b[0m\n",
      "\u001b[0;32m<ipython-input-150-99c8306653ef>\u001b[0m in \u001b[0;36m_update_weights\u001b[0;34m(self, m, lr)\u001b[0m\n\u001b[1;32m    143\u001b[0m         \u001b[0;32mfor\u001b[0m \u001b[0mlayer\u001b[0m \u001b[0;32min\u001b[0m \u001b[0mreversed\u001b[0m\u001b[0;34m(\u001b[0m\u001b[0mself\u001b[0m\u001b[0;34m.\u001b[0m\u001b[0m_layers\u001b[0m\u001b[0;34m)\u001b[0m\u001b[0;34m:\u001b[0m\u001b[0;34m\u001b[0m\u001b[0;34m\u001b[0m\u001b[0m\n\u001b[1;32m    144\u001b[0m             \u001b[0mW\u001b[0m\u001b[0;34m,\u001b[0m \u001b[0mB\u001b[0m \u001b[0;34m=\u001b[0m \u001b[0mself\u001b[0m\u001b[0;34m.\u001b[0m\u001b[0m_mem_weights\u001b[0m\u001b[0;34m[\u001b[0m\u001b[0;34mf'{layer}'\u001b[0m\u001b[0;34m]\u001b[0m\u001b[0;34m\u001b[0m\u001b[0;34m\u001b[0m\u001b[0m\n\u001b[0;32m--> 145\u001b[0;31m             \u001b[0mlayer\u001b[0m\u001b[0;34m.\u001b[0m\u001b[0mW\u001b[0m \u001b[0;34m-=\u001b[0m \u001b[0mlr\u001b[0m \u001b[0;34m*\u001b[0m \u001b[0;34m(\u001b[0m\u001b[0mW\u001b[0m \u001b[0;34m*\u001b[0m \u001b[0mm\u001b[0m\u001b[0;34m)\u001b[0m\u001b[0;34m\u001b[0m\u001b[0;34m\u001b[0m\u001b[0m\n\u001b[0m\u001b[1;32m    146\u001b[0m             \u001b[0mlayer\u001b[0m\u001b[0;34m.\u001b[0m\u001b[0mB\u001b[0m \u001b[0;34m-=\u001b[0m \u001b[0mlr\u001b[0m \u001b[0;34m*\u001b[0m \u001b[0;34m(\u001b[0m\u001b[0mB\u001b[0m \u001b[0;34m*\u001b[0m \u001b[0mm\u001b[0m\u001b[0;34m)\u001b[0m\u001b[0;34m\u001b[0m\u001b[0;34m\u001b[0m\u001b[0m\n\u001b[1;32m    147\u001b[0m \u001b[0;34m\u001b[0m\u001b[0m\n",
      "\u001b[0;31mValueError\u001b[0m: operands could not be broadcast together with shapes (100,200) (100,10) (100,200) "
     ]
    }
   ],
   "source": [
    "# from src.nn import Dense, NeuralNetwork\n",
    "\n",
    "final_error = []\n",
    "better_acc = 0\n",
    "\n",
    "layers = (\n",
    "    Dense(inputs=64, outputs=100, activation='relu'),\n",
    "    Dense(inputs=100, outputs=200, activation='relu'), \n",
    "    Dense(inputs=200, outputs=10, activation='softmax'), \n",
    ")\n",
    "\n",
    "md = NeuralNetwork(layers, X_train.copy(), y_train.copy(), loss='cross_entropy')\n",
    "error = md.train(epochs=145, lr=1e-1)\n",
    "\n",
    "y_pred = md.predict(X_test.copy())\n",
    "\n",
    "acc = np.round((np.sum(y_pred == y_test) / len(y_test)) * 100, 2)\n",
    "if acc > better_acc:\n",
    "    better_acc = acc\n",
    "final_error = error\n",
    "print(f'Acurácia: {acc}%')\n",
    "\n",
    "print(\"Classification report for classifier \\n%s\\n\"\n",
    "      % (classification_report(y_test, y_pred)))\n",
    "print('-' * 20)\n",
    "print(\"Confusion matrix:\\n%s\" % confusion_matrix(y_test, y_pred))\n",
    "\n",
    "if len(final_error):\n",
    "    plt.figure(figsize=(8, 4))\n",
    "    plt.subplot(1, 2, 1)\n",
    "    plt.title(f'Error {better_acc}%')\n",
    "    plt.plot(range(len(final_error)), final_error)\n",
    "    plt.tight_layout()\n",
    "    plt.show()"
   ]
  },
  {
   "cell_type": "code",
   "execution_count": 94,
   "metadata": {
    "ExecuteTime": {
     "end_time": "2019-03-12T15:13:46.130732Z",
     "start_time": "2019-03-12T15:13:44.259809Z"
    }
   },
   "outputs": [
    {
     "name": "stdout",
     "output_type": "stream",
     "text": [
      "Acurácia: 96.11%\n",
      "--------------------\n",
      "Classification report for classifier MLPClassifier(activation='relu', alpha=0.0001, batch_size=32, beta_1=0.9,\n",
      "       beta_2=0.999, early_stopping=False, epsilon=1e-08,\n",
      "       hidden_layer_sizes=(100,), learning_rate='constant',\n",
      "       learning_rate_init=0.1, max_iter=1500, momentum=0.9,\n",
      "       n_iter_no_change=10, nesterovs_momentum=True, power_t=0.5,\n",
      "       random_state=0, shuffle=True, solver='sgd', tol=0.0001,\n",
      "       validation_fraction=0.1, verbose=False, warm_start=False):\n",
      "              precision    recall  f1-score   support\n",
      "\n",
      "           0       0.98      1.00      0.99        45\n",
      "           1       0.84      0.94      0.89        52\n",
      "           2       0.98      0.91      0.94        53\n",
      "           3       1.00      0.96      0.98        54\n",
      "           4       0.91      1.00      0.95        48\n",
      "           5       0.95      0.98      0.97        57\n",
      "           6       1.00      0.98      0.99        60\n",
      "           7       0.98      0.96      0.97        53\n",
      "           8       1.00      0.92      0.96        61\n",
      "           9       0.98      0.96      0.97        57\n",
      "\n",
      "   micro avg       0.96      0.96      0.96       540\n",
      "   macro avg       0.96      0.96      0.96       540\n",
      "weighted avg       0.96      0.96      0.96       540\n",
      "\n",
      "\n",
      "--------------------\n",
      "Confusion matrix:\n",
      "[[45  0  0  0  0  0  0  0  0  0]\n",
      " [ 0 49  0  0  3  0  0  0  0  0]\n",
      " [ 0  4 48  0  0  0  0  1  0  0]\n",
      " [ 0  0  1 52  0  1  0  0  0  0]\n",
      " [ 0  0  0  0 48  0  0  0  0  0]\n",
      " [ 0  0  0  0  0 56  0  0  0  1]\n",
      " [ 0  1  0  0  0  0 59  0  0  0]\n",
      " [ 0  0  0  0  2  0  0 51  0  0]\n",
      " [ 1  3  0  0  0  1  0  0 56  0]\n",
      " [ 0  1  0  0  0  1  0  0  0 55]]\n"
     ]
    },
    {
     "data": {
      "image/png": "[encoded data removed]",
      "text/plain": [
       "<Figure size 576x288 with 1 Axes>"
      ]
     },
     "metadata": {
      "needs_background": "light"
     },
     "output_type": "display_data"
    }
   ],
   "source": [
    "classifier = MLPClassifier(\n",
    "    max_iter=1500,\n",
    "    solver='sgd',\n",
    "    batch_size=32,\n",
    "    shuffle=True,\n",
    "    learning_rate_init=1e-1,\n",
    "    random_state=0\n",
    ")\n",
    "classifier.fit(X_train, y_train)\n",
    "\n",
    "predicted = classifier.predict(X_test)\n",
    "\n",
    "print(f'Acurácia: {np.round(classifier.score(X_test, y_test) * 100, 2)}%')\n",
    "print('-' * 20)\n",
    "print(\"Classification report for classifier %s:\\n%s\\n\"\n",
    "      % (classifier, classification_report(y_test, predicted)))\n",
    "print('-' * 20)\n",
    "print(\"Confusion matrix:\\n%s\" % confusion_matrix(y_test, predicted))\n",
    "\n",
    "plt.figure(figsize=(8, 4))\n",
    "plt.subplot(1, 2, 1)\n",
    "plt.title(f'Loss')\n",
    "plt.plot(range(classifier.n_iter_), classifier.loss_curve_)\n",
    "plt.tight_layout()\n",
    "plt.show()"
   ]
  },
  {
   "cell_type": "code",
   "execution_count": null,
   "metadata": {},
   "outputs": [],
   "source": []
  }
 ],
 "metadata": {
  "hide_input": false,
  "kernelspec": {
   "display_name": "Python 3",
   "language": "python",
   "name": "python3"
  },
  "language_info": {
   "codemirror_mode": {
    "name": "ipython",
    "version": 3
   },
   "file_extension": ".py",
   "mimetype": "text/x-python",
   "name": "python",
   "nbconvert_exporter": "python",
   "pygments_lexer": "ipython3",
   "version": "3.7.2"
  },
  "toc": {
   "colors": {
    "hover_highlight": "#DAA520",
    "navigate_num": "#000000",
    "navigate_text": "#333333",
    "running_highlight": "#FF0000",
    "selected_highlight": "#FFD700",
    "sidebar_border": "#EEEEEE",
    "wrapper_background": "#FFFFFF"
   },
   "moveMenuLeft": true,
   "nav_menu": {
    "height": "13.3333px",
    "width": "250px"
   },
   "navigate_menu": true,
   "number_sections": true,
   "sideBar": true,
   "threshold": 4,
   "toc_cell": false,
   "toc_section_display": "block",
   "toc_window_display": false,
   "widenNotebook": false
  }
 },
 "nbformat": 4,
 "nbformat_minor": 2
}

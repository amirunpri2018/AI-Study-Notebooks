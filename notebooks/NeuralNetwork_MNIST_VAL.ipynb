{
 "cells": [
  {
   "cell_type": "markdown",
   "metadata": {},
   "source": [
    "### Neural Network"
   ]
  },
  {
   "cell_type": "code",
   "execution_count": 158,
   "metadata": {
    "ExecuteTime": {
     "end_time": "2019-03-12T15:52:36.346883Z",
     "start_time": "2019-03-12T15:52:36.336650Z"
    }
   },
   "outputs": [
    {
     "data": {
      "text/plain": [
       "{'divide': 'raise', 'over': 'raise', 'under': 'raise', 'invalid': 'raise'}"
      ]
     },
     "execution_count": 158,
     "metadata": {},
     "output_type": "execute_result"
    }
   ],
   "source": [
    "import numpy as np\n",
    "import matplotlib.pyplot as plt\n",
    "import pandas as pd\n",
    "from sklearn.model_selection import train_test_split\n",
    "from sklearn.metrics import accuracy_score, classification_report, confusion_matrix\n",
    "from sklearn.neural_network import MLPClassifier\n",
    "from sklearn.datasets import load_digits\n",
    "\n",
    "%matplotlib inline\n",
    "\n",
    "np.seterr(all='raise')"
   ]
  },
  {
   "cell_type": "code",
   "execution_count": 159,
   "metadata": {
    "ExecuteTime": {
     "end_time": "2019-03-12T15:52:37.596252Z",
     "start_time": "2019-03-12T15:52:37.257792Z"
    }
   },
   "outputs": [
    {
     "name": "stdout",
     "output_type": "stream",
     "text": [
      "Qtd Digits:  1797\n"
     ]
    },
    {
     "data": {
      "image/png": "[encoded data removed]",
      "text/plain": [
       "<Figure size 432x288 with 4 Axes>"
      ]
     },
     "metadata": {
      "needs_background": "light"
     },
     "output_type": "display_data"
    }
   ],
   "source": [
    "digits = load_digits()\n",
    "images_and_labels = list(zip(digits.images, digits.target))\n",
    "for index, (image, label) in enumerate(images_and_labels[:4]):\n",
    "    plt.subplot(2, 4, index + 1)\n",
    "    plt.axis('off')\n",
    "    plt.imshow(image, cmap='gray', interpolation='bilinear')\n",
    "    plt.title('Training: %i' % label)\n",
    "\n",
    "n_samples = len(digits.images)\n",
    "print('Qtd Digits: ', n_samples)\n",
    "\n",
    "# Data preparation\n",
    "# Flatten\n",
    "X = digits.images.reshape((n_samples, -1))\n",
    "# Normalization, from 0 to 1\n",
    "X = X / 255.\n",
    "# Targets\n",
    "y = digits.target\n",
    "# Split train and test\n",
    "X_train, X_test, y_train, y_test = train_test_split(X, y, test_size=0.3, random_state=0)"
   ]
  },
  {
   "cell_type": "code",
   "execution_count": 162,
   "metadata": {
    "ExecuteTime": {
     "end_time": "2019-03-12T15:53:25.788267Z",
     "start_time": "2019-03-12T15:53:23.785519Z"
    }
   },
   "outputs": [
    {
     "name": "stdout",
     "output_type": "stream",
     "text": [
      "Acurácia: 87.96%\n",
      "Classification report for classifier \n",
      "              precision    recall  f1-score   support\n",
      "\n",
      "           0       1.00      0.98      0.99        45\n",
      "           1       0.88      0.87      0.87        52\n",
      "           2       0.91      0.79      0.85        53\n",
      "           3       0.84      0.87      0.85        54\n",
      "           4       1.00      0.98      0.99        48\n",
      "           5       0.73      0.86      0.79        57\n",
      "           6       0.97      0.97      0.97        60\n",
      "           7       0.94      0.87      0.90        53\n",
      "           8       0.84      0.85      0.85        61\n",
      "           9       0.78      0.79      0.78        57\n",
      "\n",
      "   micro avg       0.88      0.88      0.88       540\n",
      "   macro avg       0.89      0.88      0.88       540\n",
      "weighted avg       0.88      0.88      0.88       540\n",
      "\n",
      "\n",
      "--------------------\n",
      "Confusion matrix:\n",
      "[[44  0  0  0  0  0  1  0  0  0]\n",
      " [ 0 45  1  0  0  0  1  0  4  1]\n",
      " [ 0  2 42  6  0  0  0  0  3  0]\n",
      " [ 0  0  2 47  0  1  0  2  0  2]\n",
      " [ 0  0  0  0 47  1  0  0  0  0]\n",
      " [ 0  0  0  0  0 49  0  1  1  6]\n",
      " [ 0  1  0  0  0  0 58  0  1  0]\n",
      " [ 0  1  0  0  0  6  0 46  0  0]\n",
      " [ 0  2  1  0  0  2  0  0 52  4]\n",
      " [ 0  0  0  3  0  8  0  0  1 45]]\n"
     ]
    },
    {
     "data": {
      "image/png": "[encoded data removed]",
      "text/plain": [
       "<Figure size 576x288 with 1 Axes>"
      ]
     },
     "metadata": {
      "needs_background": "light"
     },
     "output_type": "display_data"
    }
   ],
   "source": [
    "from src.nn import Dense, NeuralNetwork\n",
    "\n",
    "final_error = []\n",
    "better_acc = 0\n",
    "\n",
    "layers = (\n",
    "    Dense(inputs=64, outputs=100, activation='relu'),\n",
    "    Dense(inputs=100, outputs=16, activation='relu'), \n",
    "    Dense(inputs=16, outputs=10, activation='softmax'), \n",
    ")\n",
    "\n",
    "md = NeuralNetwork(layers, X_train.copy(), y_train.copy(), loss='cross_entropy')\n",
    "error = md.train(epochs=145, lr=1e-1)\n",
    "\n",
    "y_pred = md.predict(X_test.copy())\n",
    "\n",
    "acc = np.round((np.sum(y_pred == y_test) / len(y_test)) * 100, 2)\n",
    "if acc > better_acc:\n",
    "    better_acc = acc\n",
    "final_error = error\n",
    "print(f'Acurácia: {acc}%')\n",
    "\n",
    "print(\"Classification report for classifier \\n%s\\n\"\n",
    "      % (classification_report(y_test, y_pred)))\n",
    "print('-' * 20)\n",
    "print(\"Confusion matrix:\\n%s\" % confusion_matrix(y_test, y_pred))\n",
    "\n",
    "if len(final_error):\n",
    "    plt.figure(figsize=(8, 4))\n",
    "    plt.subplot(1, 2, 1)\n",
    "    plt.title(f'Error {better_acc}%')\n",
    "    plt.plot(range(len(final_error)), final_error)\n",
    "    plt.tight_layout()\n",
    "    plt.show()"
   ]
  },
  {
   "cell_type": "code",
   "execution_count": 161,
   "metadata": {
    "ExecuteTime": {
     "end_time": "2019-03-12T15:52:46.371785Z",
     "start_time": "2019-03-12T15:52:44.481470Z"
    }
   },
   "outputs": [
    {
     "name": "stdout",
     "output_type": "stream",
     "text": [
      "Acurácia: 96.11%\n",
      "--------------------\n",
      "Classification report for classifier MLPClassifier(activation='relu', alpha=0.0001, batch_size=32, beta_1=0.9,\n",
      "       beta_2=0.999, early_stopping=False, epsilon=1e-08,\n",
      "       hidden_layer_sizes=(100,), learning_rate='constant',\n",
      "       learning_rate_init=0.1, max_iter=1500, momentum=0.9,\n",
      "       n_iter_no_change=10, nesterovs_momentum=True, power_t=0.5,\n",
      "       random_state=0, shuffle=True, solver='sgd', tol=0.0001,\n",
      "       validation_fraction=0.1, verbose=False, warm_start=False):\n",
      "              precision    recall  f1-score   support\n",
      "\n",
      "           0       0.98      1.00      0.99        45\n",
      "           1       0.84      0.94      0.89        52\n",
      "           2       0.98      0.91      0.94        53\n",
      "           3       1.00      0.96      0.98        54\n",
      "           4       0.91      1.00      0.95        48\n",
      "           5       0.95      0.98      0.97        57\n",
      "           6       1.00      0.98      0.99        60\n",
      "           7       0.98      0.96      0.97        53\n",
      "           8       1.00      0.92      0.96        61\n",
      "           9       0.98      0.96      0.97        57\n",
      "\n",
      "   micro avg       0.96      0.96      0.96       540\n",
      "   macro avg       0.96      0.96      0.96       540\n",
      "weighted avg       0.96      0.96      0.96       540\n",
      "\n",
      "\n",
      "--------------------\n",
      "Confusion matrix:\n",
      "[[45  0  0  0  0  0  0  0  0  0]\n",
      " [ 0 49  0  0  3  0  0  0  0  0]\n",
      " [ 0  4 48  0  0  0  0  1  0  0]\n",
      " [ 0  0  1 52  0  1  0  0  0  0]\n",
      " [ 0  0  0  0 48  0  0  0  0  0]\n",
      " [ 0  0  0  0  0 56  0  0  0  1]\n",
      " [ 0  1  0  0  0  0 59  0  0  0]\n",
      " [ 0  0  0  0  2  0  0 51  0  0]\n",
      " [ 1  3  0  0  0  1  0  0 56  0]\n",
      " [ 0  1  0  0  0  1  0  0  0 55]]\n"
     ]
    },
    {
     "data": {
      "image/png": "[encoded data removed]",
      "text/plain": [
       "<Figure size 576x288 with 1 Axes>"
      ]
     },
     "metadata": {
      "needs_background": "light"
     },
     "output_type": "display_data"
    }
   ],
   "source": [
    "classifier = MLPClassifier(\n",
    "    max_iter=1500,\n",
    "    solver='sgd',\n",
    "    batch_size=32,\n",
    "    shuffle=True,\n",
    "    learning_rate_init=1e-1,\n",
    "    random_state=0\n",
    ")\n",
    "classifier.fit(X_train, y_train)\n",
    "\n",
    "predicted = classifier.predict(X_test)\n",
    "\n",
    "print(f'Acurácia: {np.round(classifier.score(X_test, y_test) * 100, 2)}%')\n",
    "print('-' * 20)\n",
    "print(\"Classification report for classifier %s:\\n%s\\n\"\n",
    "      % (classifier, classification_report(y_test, predicted)))\n",
    "print('-' * 20)\n",
    "print(\"Confusion matrix:\\n%s\" % confusion_matrix(y_test, predicted))\n",
    "\n",
    "plt.figure(figsize=(8, 4))\n",
    "plt.subplot(1, 2, 1)\n",
    "plt.title(f'Loss')\n",
    "plt.plot(range(classifier.n_iter_), classifier.loss_curve_)\n",
    "plt.tight_layout()\n",
    "plt.show()"
   ]
  },
  {
   "cell_type": "code",
   "execution_count": null,
   "metadata": {},
   "outputs": [],
   "source": []
  }
 ],
 "metadata": {
  "hide_input": false,
  "kernelspec": {
   "display_name": "Python 3",
   "language": "python",
   "name": "python3"
  },
  "language_info": {
   "codemirror_mode": {
    "name": "ipython",
    "version": 3
   },
   "file_extension": ".py",
   "mimetype": "text/x-python",
   "name": "python",
   "nbconvert_exporter": "python",
   "pygments_lexer": "ipython3",
   "version": "3.7.2"
  },
  "toc": {
   "colors": {
    "hover_highlight": "#DAA520",
    "navigate_num": "#000000",
    "navigate_text": "#333333",
    "running_highlight": "#FF0000",
    "selected_highlight": "#FFD700",
    "sidebar_border": "#EEEEEE",
    "wrapper_background": "#FFFFFF"
   },
   "moveMenuLeft": true,
   "nav_menu": {
    "height": "13.3333px",
    "width": "250px"
   },
   "navigate_menu": true,
   "number_sections": true,
   "sideBar": true,
   "threshold": 4,
   "toc_cell": false,
   "toc_section_display": "block",
   "toc_window_display": false,
   "widenNotebook": false
  }
 },
 "nbformat": 4,
 "nbformat_minor": 2
}

{
 "cells": [
  {
   "cell_type": "markdown",
   "metadata": {},
   "source": [
    "### Vanilla Neural Network\n",
    "\n",
    "This is a Vanilla Multi-Layer Neural Network implementation used to recognize hand digits (MNIST). In this implementation, there is no Mini-batch, regularization or even Nesterov momentum."
   ]
  },
  {
   "cell_type": "code",
   "execution_count": 2,
   "metadata": {
    "ExecuteTime": {
     "end_time": "2019-03-11T14:59:50.169966Z",
     "start_time": "2019-03-11T14:59:47.974530Z"
    }
   },
   "outputs": [
    {
     "data": {
      "text/plain": [
       "{'divide': 'warn', 'over': 'warn', 'under': 'ignore', 'invalid': 'warn'}"
      ]
     },
     "execution_count": 2,
     "metadata": {},
     "output_type": "execute_result"
    }
   ],
   "source": [
    "import numpy as np\n",
    "import matplotlib.pyplot as plt\n",
    "import pandas as pd\n",
    "from sklearn.model_selection import train_test_split\n",
    "from sklearn.metrics import accuracy_score, classification_report, confusion_matrix\n",
    "from sklearn.neural_network import MLPClassifier\n",
    "from sklearn.datasets import load_digits\n",
    "\n",
    "%matplotlib inline\n",
    "\n",
    "np.seterr(all='raise')"
   ]
  },
  {
   "cell_type": "code",
   "execution_count": 3,
   "metadata": {
    "ExecuteTime": {
     "end_time": "2019-03-11T14:59:50.507431Z",
     "start_time": "2019-03-11T14:59:50.171929Z"
    }
   },
   "outputs": [
    {
     "name": "stdout",
     "output_type": "stream",
     "text": [
      "Qtd Digits:  1797\n"
     ]
    },
    {
     "data": {
      "image/png": "[encoded data removed]",
      "text/plain": [
       "<Figure size 432x288 with 4 Axes>"
      ]
     },
     "metadata": {
      "needs_background": "light"
     },
     "output_type": "display_data"
    }
   ],
   "source": [
    "digits = load_digits()\n",
    "images_and_labels = list(zip(digits.images, digits.target))\n",
    "for index, (image, label) in enumerate(images_and_labels[:4]):\n",
    "    plt.subplot(2, 4, index + 1)\n",
    "    plt.axis('off')\n",
    "    plt.imshow(image, cmap='gray', interpolation='bilinear')\n",
    "    plt.title('Training: %i' % label)\n",
    "\n",
    "n_samples = len(digits.images)\n",
    "print('Qtd Digits: ', n_samples)\n",
    "\n",
    "# Data preparation\n",
    "# Flatten\n",
    "X = digits.images.reshape((n_samples, -1))\n",
    "# Normalization, from 0 to 1\n",
    "X = X / 255.\n",
    "# Targets\n",
    "y = digits.target\n",
    "# Split train and test\n",
    "X_train, X_test, y_train, y_test = train_test_split(X, y, test_size=0.3, random_state=0)"
   ]
  },
  {
   "cell_type": "code",
   "execution_count": 12,
   "metadata": {
    "ExecuteTime": {
     "end_time": "2019-03-11T15:29:50.295167Z",
     "start_time": "2019-03-11T15:29:00.589384Z"
    }
   },
   "outputs": [
    {
     "name": "stdout",
     "output_type": "stream",
     "text": [
      "Acurácia: 95.19%\n",
      "Classification report for classifier \n",
      "              precision    recall  f1-score   support\n",
      "\n",
      "           0       1.00      0.98      0.99        45\n",
      "           1       0.89      0.94      0.92        52\n",
      "           2       0.96      0.89      0.92        53\n",
      "           3       0.91      0.94      0.93        54\n",
      "           4       1.00      0.98      0.99        48\n",
      "           5       0.96      0.96      0.96        57\n",
      "           6       0.97      0.98      0.98        60\n",
      "           7       0.96      0.98      0.97        53\n",
      "           8       0.97      0.92      0.94        61\n",
      "           9       0.92      0.95      0.93        57\n",
      "\n",
      "   micro avg       0.95      0.95      0.95       540\n",
      "   macro avg       0.95      0.95      0.95       540\n",
      "weighted avg       0.95      0.95      0.95       540\n",
      "\n",
      "\n",
      "--------------------\n",
      "Confusion matrix:\n",
      "[[44  0  0  0  0  0  1  0  0  0]\n",
      " [ 0 49  0  0  0  0  1  0  1  1]\n",
      " [ 0  2 47  4  0  0  0  0  0  0]\n",
      " [ 0  0  2 51  0  0  0  1  0  0]\n",
      " [ 0  0  0  0 47  0  0  1  0  0]\n",
      " [ 0  0  0  0  0 55  0  0  0  2]\n",
      " [ 0  1  0  0  0  0 59  0  0  0]\n",
      " [ 0  0  0  0  0  0  0 52  0  1]\n",
      " [ 0  3  0  0  0  1  0  0 56  1]\n",
      " [ 0  0  0  1  0  1  0  0  1 54]]\n"
     ]
    },
    {
     "data": {
      "image/png": "[encoded data removed]",
      "text/plain": [
       "<Figure size 576x288 with 1 Axes>"
      ]
     },
     "metadata": {
      "needs_background": "light"
     },
     "output_type": "display_data"
    }
   ],
   "source": [
    "from src.vnn import Layer, VanillaNeuralNetwork\n",
    "\n",
    "final_error = []\n",
    "better_acc = 0\n",
    "\n",
    "layers = (\n",
    "    Layer(1, inputs=64, outputs=64, activation='relu'),\n",
    "    Layer(2, inputs=64, outputs=16, activation='relu'), \n",
    "    Layer(3, inputs=16, outputs=10, activation='softmax'), \n",
    ")\n",
    "\n",
    "md = VanillaNeuralNetwork(layers, X_train.copy(), y_train.copy(), loss='cross_entropy')\n",
    "error = md.train(epochs=11500, lr=1e-1)\n",
    "\n",
    "y_pred = md.predict(X_test.copy())\n",
    "\n",
    "acc = np.round((np.sum(y_pred == y_test) / len(y_test)) * 100, 2)\n",
    "if acc > better_acc:\n",
    "    better_acc = acc\n",
    "final_error = error\n",
    "print(f'Acurácia: {acc}%')\n",
    "\n",
    "print(\"Classification report for classifier \\n%s\\n\"\n",
    "      % (classification_report(y_test, y_pred)))\n",
    "print('-' * 20)\n",
    "print(\"Confusion matrix:\\n%s\" % confusion_matrix(y_test, y_pred))\n",
    "\n",
    "if len(final_error):\n",
    "    plt.figure(figsize=(8, 4))\n",
    "    plt.subplot(1, 2, 1)\n",
    "    plt.title(f'Error {better_acc}%')\n",
    "    plt.plot(range(len(final_error)), final_error)\n",
    "    plt.tight_layout()\n",
    "    plt.show()"
   ]
  },
  {
   "cell_type": "code",
   "execution_count": 6,
   "metadata": {
    "ExecuteTime": {
     "end_time": "2019-03-11T15:23:55.577572Z",
     "start_time": "2019-03-11T15:23:51.074477Z"
    }
   },
   "outputs": [
    {
     "name": "stdout",
     "output_type": "stream",
     "text": [
      "Acurácia: 95.74%\n",
      "--------------------\n",
      "Classification report for classifier MLPClassifier(activation='relu', alpha=0.0001, batch_size=1257, beta_1=0.9,\n",
      "       beta_2=0.999, early_stopping=False, epsilon=1e-08,\n",
      "       hidden_layer_sizes=(100,), learning_rate='constant',\n",
      "       learning_rate_init=0.1, max_iter=1500, momentum=0.9,\n",
      "       n_iter_no_change=10, nesterovs_momentum=True, power_t=0.5,\n",
      "       random_state=0, shuffle=False, solver='sgd', tol=0.0001,\n",
      "       validation_fraction=0.1, verbose=False, warm_start=False):\n",
      "              precision    recall  f1-score   support\n",
      "\n",
      "           0       1.00      1.00      1.00        45\n",
      "           1       0.89      0.92      0.91        52\n",
      "           2       1.00      0.96      0.98        53\n",
      "           3       0.98      0.93      0.95        54\n",
      "           4       0.98      0.98      0.98        48\n",
      "           5       0.95      0.95      0.95        57\n",
      "           6       0.95      0.98      0.97        60\n",
      "           7       0.98      0.98      0.98        53\n",
      "           8       0.97      0.92      0.94        61\n",
      "           9       0.90      0.96      0.93        57\n",
      "\n",
      "   micro avg       0.96      0.96      0.96       540\n",
      "   macro avg       0.96      0.96      0.96       540\n",
      "weighted avg       0.96      0.96      0.96       540\n",
      "\n",
      "\n",
      "--------------------\n",
      "Confusion matrix:\n",
      "[[45  0  0  0  0  0  0  0  0  0]\n",
      " [ 0 48  0  0  0  0  2  0  0  2]\n",
      " [ 0  2 51  0  0  0  0  0  0  0]\n",
      " [ 0  0  0 50  0  1  0  0  2  1]\n",
      " [ 0  0  0  0 47  0  0  1  0  0]\n",
      " [ 0  0  0  0  0 54  1  0  0  2]\n",
      " [ 0  1  0  0  0  0 59  0  0  0]\n",
      " [ 0  0  0  0  1  0  0 52  0  0]\n",
      " [ 0  3  0  0  0  1  0  0 56  1]\n",
      " [ 0  0  0  1  0  1  0  0  0 55]]\n"
     ]
    }
   ],
   "source": [
    "classifier = MLPClassifier(\n",
    "    max_iter=1500,\n",
    "    solver='sgd',\n",
    "    batch_size=X_train.shape[0],\n",
    "    shuffle=False,\n",
    "    learning_rate_init=1e-1,\n",
    "    random_state=0\n",
    ")\n",
    "classifier.fit(X_train, y_train)\n",
    "\n",
    "predicted = classifier.predict(X_test)\n",
    "\n",
    "print(f'Acurácia: {np.round(classifier.score(X_test, y_test) * 100, 2)}%')\n",
    "print('-' * 20)\n",
    "print(\"Classification report for classifier %s:\\n%s\\n\"\n",
    "      % (classifier, classification_report(y_test, predicted)))\n",
    "print('-' * 20)\n",
    "print(\"Confusion matrix:\\n%s\" % confusion_matrix(y_test, predicted))"
   ]
  },
  {
   "cell_type": "code",
   "execution_count": null,
   "metadata": {},
   "outputs": [],
   "source": []
  }
 ],
 "metadata": {
  "hide_input": false,
  "kernelspec": {
   "display_name": "Python 3",
   "language": "python",
   "name": "python3"
  },
  "language_info": {
   "codemirror_mode": {
    "name": "ipython",
    "version": 3
   },
   "file_extension": ".py",
   "mimetype": "text/x-python",
   "name": "python",
   "nbconvert_exporter": "python",
   "pygments_lexer": "ipython3",
   "version": "3.7.2"
  },
  "toc": {
   "colors": {
    "hover_highlight": "#DAA520",
    "navigate_num": "#000000",
    "navigate_text": "#333333",
    "running_highlight": "#FF0000",
    "selected_highlight": "#FFD700",
    "sidebar_border": "#EEEEEE",
    "wrapper_background": "#FFFFFF"
   },
   "moveMenuLeft": true,
   "nav_menu": {
    "height": "0px",
    "width": "250px"
   },
   "navigate_menu": true,
   "number_sections": true,
   "sideBar": true,
   "threshold": 4,
   "toc_cell": false,
   "toc_section_display": "block",
   "toc_window_display": false,
   "widenNotebook": false
  }
 },
 "nbformat": 4,
 "nbformat_minor": 2
}

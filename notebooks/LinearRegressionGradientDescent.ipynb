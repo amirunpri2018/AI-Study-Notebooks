{
 "cells": [
  {
   "cell_type": "code",
   "execution_count": 1,
   "metadata": {
    "ExecuteTime": {
     "end_time": "2019-02-15T17:21:38.295128Z",
     "start_time": "2019-02-15T17:21:28.622087Z"
    }
   },
   "outputs": [],
   "source": [
    "import numpy as np\n",
    "import matplotlib.pyplot as plt\n",
    "import pandas as pd\n",
    "from sklearn.model_selection import train_test_split\n",
    "from sklearn.linear_model import LinearRegression\n",
    "\n",
    "%matplotlib inline"
   ]
  },
  {
   "cell_type": "code",
   "execution_count": 2,
   "metadata": {
    "ExecuteTime": {
     "end_time": "2019-02-15T17:21:38.707570Z",
     "start_time": "2019-02-15T17:21:38.298673Z"
    }
   },
   "outputs": [
    {
     "data": {
      "text/html": [
       "<div>\n",
       "<style scoped>\n",
       "    .dataframe tbody tr th:only-of-type {\n",
       "        vertical-align: middle;\n",
       "    }\n",
       "\n",
       "    .dataframe tbody tr th {\n",
       "        vertical-align: top;\n",
       "    }\n",
       "\n",
       "    .dataframe thead th {\n",
       "        text-align: right;\n",
       "    }\n",
       "</style>\n",
       "<table border=\"1\" class=\"dataframe\">\n",
       "  <thead>\n",
       "    <tr style=\"text-align: right;\">\n",
       "      <th></th>\n",
       "      <th>Id</th>\n",
       "      <th>MSSubClass</th>\n",
       "      <th>MSZoning</th>\n",
       "      <th>LotFrontage</th>\n",
       "      <th>LotArea</th>\n",
       "      <th>Street</th>\n",
       "      <th>Alley</th>\n",
       "      <th>LotShape</th>\n",
       "      <th>LandContour</th>\n",
       "      <th>Utilities</th>\n",
       "      <th>...</th>\n",
       "      <th>PoolArea</th>\n",
       "      <th>PoolQC</th>\n",
       "      <th>Fence</th>\n",
       "      <th>MiscFeature</th>\n",
       "      <th>MiscVal</th>\n",
       "      <th>MoSold</th>\n",
       "      <th>YrSold</th>\n",
       "      <th>SaleType</th>\n",
       "      <th>SaleCondition</th>\n",
       "      <th>SalePrice</th>\n",
       "    </tr>\n",
       "  </thead>\n",
       "  <tbody>\n",
       "    <tr>\n",
       "      <th>0</th>\n",
       "      <td>1</td>\n",
       "      <td>60</td>\n",
       "      <td>RL</td>\n",
       "      <td>65.0</td>\n",
       "      <td>8450</td>\n",
       "      <td>Pave</td>\n",
       "      <td>NaN</td>\n",
       "      <td>Reg</td>\n",
       "      <td>Lvl</td>\n",
       "      <td>AllPub</td>\n",
       "      <td>...</td>\n",
       "      <td>0</td>\n",
       "      <td>NaN</td>\n",
       "      <td>NaN</td>\n",
       "      <td>NaN</td>\n",
       "      <td>0</td>\n",
       "      <td>2</td>\n",
       "      <td>2008</td>\n",
       "      <td>WD</td>\n",
       "      <td>Normal</td>\n",
       "      <td>208500</td>\n",
       "    </tr>\n",
       "    <tr>\n",
       "      <th>1</th>\n",
       "      <td>2</td>\n",
       "      <td>20</td>\n",
       "      <td>RL</td>\n",
       "      <td>80.0</td>\n",
       "      <td>9600</td>\n",
       "      <td>Pave</td>\n",
       "      <td>NaN</td>\n",
       "      <td>Reg</td>\n",
       "      <td>Lvl</td>\n",
       "      <td>AllPub</td>\n",
       "      <td>...</td>\n",
       "      <td>0</td>\n",
       "      <td>NaN</td>\n",
       "      <td>NaN</td>\n",
       "      <td>NaN</td>\n",
       "      <td>0</td>\n",
       "      <td>5</td>\n",
       "      <td>2007</td>\n",
       "      <td>WD</td>\n",
       "      <td>Normal</td>\n",
       "      <td>181500</td>\n",
       "    </tr>\n",
       "    <tr>\n",
       "      <th>2</th>\n",
       "      <td>3</td>\n",
       "      <td>60</td>\n",
       "      <td>RL</td>\n",
       "      <td>68.0</td>\n",
       "      <td>11250</td>\n",
       "      <td>Pave</td>\n",
       "      <td>NaN</td>\n",
       "      <td>IR1</td>\n",
       "      <td>Lvl</td>\n",
       "      <td>AllPub</td>\n",
       "      <td>...</td>\n",
       "      <td>0</td>\n",
       "      <td>NaN</td>\n",
       "      <td>NaN</td>\n",
       "      <td>NaN</td>\n",
       "      <td>0</td>\n",
       "      <td>9</td>\n",
       "      <td>2008</td>\n",
       "      <td>WD</td>\n",
       "      <td>Normal</td>\n",
       "      <td>223500</td>\n",
       "    </tr>\n",
       "    <tr>\n",
       "      <th>3</th>\n",
       "      <td>4</td>\n",
       "      <td>70</td>\n",
       "      <td>RL</td>\n",
       "      <td>60.0</td>\n",
       "      <td>9550</td>\n",
       "      <td>Pave</td>\n",
       "      <td>NaN</td>\n",
       "      <td>IR1</td>\n",
       "      <td>Lvl</td>\n",
       "      <td>AllPub</td>\n",
       "      <td>...</td>\n",
       "      <td>0</td>\n",
       "      <td>NaN</td>\n",
       "      <td>NaN</td>\n",
       "      <td>NaN</td>\n",
       "      <td>0</td>\n",
       "      <td>2</td>\n",
       "      <td>2006</td>\n",
       "      <td>WD</td>\n",
       "      <td>Abnorml</td>\n",
       "      <td>140000</td>\n",
       "    </tr>\n",
       "    <tr>\n",
       "      <th>4</th>\n",
       "      <td>5</td>\n",
       "      <td>60</td>\n",
       "      <td>RL</td>\n",
       "      <td>84.0</td>\n",
       "      <td>14260</td>\n",
       "      <td>Pave</td>\n",
       "      <td>NaN</td>\n",
       "      <td>IR1</td>\n",
       "      <td>Lvl</td>\n",
       "      <td>AllPub</td>\n",
       "      <td>...</td>\n",
       "      <td>0</td>\n",
       "      <td>NaN</td>\n",
       "      <td>NaN</td>\n",
       "      <td>NaN</td>\n",
       "      <td>0</td>\n",
       "      <td>12</td>\n",
       "      <td>2008</td>\n",
       "      <td>WD</td>\n",
       "      <td>Normal</td>\n",
       "      <td>250000</td>\n",
       "    </tr>\n",
       "  </tbody>\n",
       "</table>\n",
       "<p>5 rows × 81 columns</p>\n",
       "</div>"
      ],
      "text/plain": [
       "   Id  MSSubClass MSZoning  LotFrontage  LotArea Street Alley LotShape  \\\n",
       "0   1          60       RL         65.0     8450   Pave   NaN      Reg   \n",
       "1   2          20       RL         80.0     9600   Pave   NaN      Reg   \n",
       "2   3          60       RL         68.0    11250   Pave   NaN      IR1   \n",
       "3   4          70       RL         60.0     9550   Pave   NaN      IR1   \n",
       "4   5          60       RL         84.0    14260   Pave   NaN      IR1   \n",
       "\n",
       "  LandContour Utilities  ... PoolArea PoolQC Fence MiscFeature MiscVal MoSold  \\\n",
       "0         Lvl    AllPub  ...        0    NaN   NaN         NaN       0      2   \n",
       "1         Lvl    AllPub  ...        0    NaN   NaN         NaN       0      5   \n",
       "2         Lvl    AllPub  ...        0    NaN   NaN         NaN       0      9   \n",
       "3         Lvl    AllPub  ...        0    NaN   NaN         NaN       0      2   \n",
       "4         Lvl    AllPub  ...        0    NaN   NaN         NaN       0     12   \n",
       "\n",
       "  YrSold  SaleType  SaleCondition  SalePrice  \n",
       "0   2008        WD         Normal     208500  \n",
       "1   2007        WD         Normal     181500  \n",
       "2   2008        WD         Normal     223500  \n",
       "3   2006        WD        Abnorml     140000  \n",
       "4   2008        WD         Normal     250000  \n",
       "\n",
       "[5 rows x 81 columns]"
      ]
     },
     "execution_count": 2,
     "metadata": {},
     "output_type": "execute_result"
    }
   ],
   "source": [
    "df = pd.read_csv('../dataset/house-prices-advanced-regression-techniques/train.csv')\n",
    "df.head(5)"
   ]
  },
  {
   "cell_type": "code",
   "execution_count": 198,
   "metadata": {
    "ExecuteTime": {
     "end_time": "2019-02-15T18:53:56.915146Z",
     "start_time": "2019-02-15T18:53:56.907720Z"
    }
   },
   "outputs": [
    {
     "name": "stdout",
     "output_type": "stream",
     "text": [
      "(1022,) (438,)\n",
      "(1022,) (438,)\n"
     ]
    }
   ],
   "source": [
    "X, y = np.array(df['YearBuilt']), np.array(df['SalePrice'])\n",
    "X_train, X_test, y_train, y_test = train_test_split(X, y, test_size=0.3, random_state=42)\n",
    "print(X_train.shape, X_test.shape)\n",
    "print(y_train.shape, y_test.shape)"
   ]
  },
  {
   "cell_type": "code",
   "execution_count": 219,
   "metadata": {
    "ExecuteTime": {
     "end_time": "2019-02-15T19:00:26.297908Z",
     "start_time": "2019-02-15T19:00:25.889879Z"
    }
   },
   "outputs": [
    {
     "name": "stdout",
     "output_type": "stream",
     "text": [
      "[ 6.17446393e+02 -1.03575205e+06]\n"
     ]
    },
    {
     "data": {
      "image/png": "[encoded data removed]",
      "text/plain": [
       "<Figure size 648x288 with 2 Axes>"
      ]
     },
     "metadata": {
      "needs_background": "light"
     },
     "output_type": "display_data"
    }
   ],
   "source": [
    "def normalize(X, y):\n",
    "    X[:, 1] = (X[:, 1] - np.min(X[:, 1])) / (np.max(X[:, 1]) - np.min(X[:, 1]))\n",
    "    y = (y - np.min(y)) / (np.max(y) - np.min(y))\n",
    "    return X, y\n",
    "\n",
    "def denormalize(X, y, theta):\n",
    "    a, b, c, d = np.min(y), np.max(y) - np.min(y), np.min(X[:, 1]), np.max(X[:, 1]) - np.min(X[:, 1])\n",
    "    theta_hat = np.array([b * theta[0] / d, b*theta[1] + a - c*b*theta[0]/d])\n",
    "    return theta_hat\n",
    "\n",
    "def linear_regression_mult_gd(X, y, epoch=10000, lr=.01):\n",
    "    \"\"\"Multivariate Linear Regression with Gradient Descent : Multidimensional.\"\"\"\n",
    "    total_expected_error = 0\n",
    "    # Initialize the weights with random values\n",
    "    W = np.array([0., 0.]) #np.random.uniform(size=X.shape[1])\n",
    "    # We are just copying to presentation\n",
    "    W_org = W.copy()\n",
    "    errorlist = []\n",
    "    epoch_steps = 0\n",
    "    X, y = normalize(X, y)\n",
    "    # Run for the epochs\n",
    "    for k in range(epoch):\n",
    "        # prediction\n",
    "        # Yh = X.dot(W)\n",
    "        # calculate the error\n",
    "        # error = np.sum((Yh - y).dot(X))\n",
    "        # sum all the errors used in early stop and for presentation\n",
    "        total_error = error**2\n",
    "        # calculate the gradient\n",
    "        # gradient = np.sum((Yh - y).dot(X)) / X.shape[0]\n",
    "        # adjust the weights using the learning rate and the gradient\n",
    "        # W += -lr * gradient\n",
    "        \n",
    "        predictions = X.dot(W).flatten()\n",
    "\n",
    "        errors_x1 = (predictions - y)\n",
    "        errors_x2 = (predictions - y)\n",
    "\n",
    "        W[0] += - lr * (1.0 / X.shape[0]) * errors_x1.sum()\n",
    "        W[1] += - lr * (1.0 / X.shape[0]) * errors_x2.sum()\n",
    "        \n",
    "        # theta[0] -= alpha/x_nor.shape[0] * 2 * sum((theta[0] * x_nor + theta[1] - y_nor)*x_nor)\n",
    "        # theta[1] -= alpha/x_nor.shape[0] * 2 * sum((theta[0] * x_nor + theta[1] - y_nor) )\n",
    "        \n",
    "        total_error = np.sum(predictions - y)**2\n",
    "        # In case we need to stop iterating because the error is too low\n",
    "        if np.abs(total_expected_error-total_error) < .0005:\n",
    "            return W_org, W, total_error, errorlist, epoch_steps\n",
    "        total_expected_error = total_error\n",
    "        # Support vars\n",
    "        errorlist.append(total_error)\n",
    "        epoch_steps += 1\n",
    "    return W_org, W, total_error, errorlist, epoch_steps\n",
    "\n",
    "A = np.c_[np.ones(len(X_train)), X_train]\n",
    "W_org, W, error, errorlist, epoch_steps = linear_regression_mult_gd(A.copy(), y_train.copy())\n",
    "W = denormalize(A.copy(), y_train.copy(), W)\n",
    "print(W)\n",
    "e = W[0] + (X_train * W[1])\n",
    "e2 = W_org[0] + (X_train * W_org[1])\n",
    "\n",
    "plt.figure(figsize=(9, 4))\n",
    "plt.subplot(1, 2, 1)\n",
    "plt.title('Linear Regression')\n",
    "plt.plot(X_train, y_train, 'mo')\n",
    "plt.plot(X_train, e, alpha=.85, label='e')\n",
    "plt.plot(X_train, e2, alpha=.25, label='e2')\n",
    "plt.legend()\n",
    "plt.subplot(1, 2, 2)\n",
    "plt.title('Error')\n",
    "plt.xlabel(\"epochs\")\n",
    "plt.ylabel(\"error\")\n",
    "plt.plot(range(epoch_steps), errorlist)\n",
    "plt.tight_layout()\n",
    "plt.show()"
   ]
  },
  {
   "cell_type": "code",
   "execution_count": 103,
   "metadata": {
    "ExecuteTime": {
     "end_time": "2019-02-15T17:49:54.501043Z",
     "start_time": "2019-02-15T17:49:54.327076Z"
    }
   },
   "outputs": [
    {
     "name": "stdout",
     "output_type": "stream",
     "text": [
      "[1292.9321994637112, -2367050.346883682]\n"
     ]
    },
    {
     "data": {
      "image/png": "[encoded data removed]",
      "text/plain": [
       "<Figure size 360x288 with 1 Axes>"
      ]
     },
     "metadata": {
      "needs_background": "light"
     },
     "output_type": "display_data"
    }
   ],
   "source": [
    "A = np.vstack([X_train, np.ones(len(X_train))]).T\n",
    "reg = LinearRegression().fit(A, y_train)\n",
    "print([reg.coef_[0], reg.intercept_])\n",
    "e_sk_value = (reg.coef_ * A) + reg.intercept_\n",
    "\n",
    "plt.figure(figsize=(5, 4))\n",
    "plt.title('Linear Regression')\n",
    "plt.plot(X_train, y_train, 'mo')\n",
    "plt.plot(X_train, e_sk_value[:, 0], alpha=.75)\n",
    "plt.tight_layout()\n",
    "plt.show()"
   ]
  },
  {
   "cell_type": "code",
   "execution_count": 130,
   "metadata": {
    "ExecuteTime": {
     "end_time": "2019-02-15T17:53:07.305925Z",
     "start_time": "2019-02-15T17:53:07.086175Z"
    }
   },
   "outputs": [
    {
     "name": "stdout",
     "output_type": "stream",
     "text": [
      "\n",
      "[ 1.29292507e+03 -2.36703640e+06]\n"
     ]
    },
    {
     "data": {
      "image/png": "[encoded data removed]",
      "text/plain": [
       "<Figure size 648x288 with 1 Axes>"
      ]
     },
     "metadata": {
      "needs_background": "light"
     },
     "output_type": "display_data"
    }
   ],
   "source": [
    "def gradient_descent(x_nor, y_nor, iters):\n",
    "    theta = np.random.uniform(size=2)\n",
    "    alpha = 1\n",
    "    for t in range(iters):\n",
    "        theta[0] -= alpha/x_nor.shape[0] * 2 * sum((theta[0] * x_nor + theta[1] - y_nor)*x_nor)\n",
    "        theta[1] -= alpha/x_nor.shape[0] * 2 * sum((theta[0] * x_nor + theta[1] - y_nor) )\n",
    "    return theta\n",
    "\n",
    "def plot_fit(theta):\n",
    "    plt.scatter(x_nor, y_nor, marker = 'x')\n",
    "    plt.xlabel(\"Nomalized Temperature\")\n",
    "    plt.ylabel(\"Normalized Demand\")\n",
    "    xlim, ylim =(plt.gca().get_xlim(), plt.gca().get_ylim())\n",
    "    plt.plot(xlim, [theta[0]*xlim[0]+theta[1], theta[0]*xlim[1]+theta[1]], 'C1')\n",
    "    plt.xlim(xlim)\n",
    "    plt.ylim(ylim)\n",
    "\n",
    "X_nor, y_nor = normalize(A.copy(), y_train.copy())\n",
    "Wg = gradient_descent(X_nor[:, 1], y_nor, 50)\n",
    "Wg = denormalize(A.copy(), y_train.copy(), Wg)\n",
    "print(Wg)\n",
    "\n",
    "e = Wg[1] + (X_train * Wg[0])\n",
    "\n",
    "plt.figure(figsize=(9, 4))\n",
    "plt.subplot(1, 2, 1)\n",
    "plt.title('Linear Regression')\n",
    "plt.plot(X_train, y_train, 'mo')\n",
    "plt.plot(X_train, e, alpha=.85, label='e')\n",
    "plt.legend()\n",
    "plt.tight_layout()\n",
    "plt.show()"
   ]
  },
  {
   "cell_type": "code",
   "execution_count": null,
   "metadata": {},
   "outputs": [],
   "source": []
  }
 ],
 "metadata": {
  "hide_input": false,
  "kernelspec": {
   "display_name": "Python 3",
   "language": "python",
   "name": "python3"
  },
  "language_info": {
   "codemirror_mode": {
    "name": "ipython",
    "version": 3
   },
   "file_extension": ".py",
   "mimetype": "text/x-python",
   "name": "python",
   "nbconvert_exporter": "python",
   "pygments_lexer": "ipython3",
   "version": "3.7.2"
  },
  "toc": {
   "colors": {
    "hover_highlight": "#DAA520",
    "navigate_num": "#000000",
    "navigate_text": "#333333",
    "running_highlight": "#FF0000",
    "selected_highlight": "#FFD700",
    "sidebar_border": "#EEEEEE",
    "wrapper_background": "#FFFFFF"
   },
   "moveMenuLeft": true,
   "nav_menu": {
    "height": "0px",
    "width": "250px"
   },
   "navigate_menu": true,
   "number_sections": true,
   "sideBar": true,
   "threshold": 4,
   "toc_cell": false,
   "toc_section_display": "block",
   "toc_window_display": false,
   "widenNotebook": false
  }
 },
 "nbformat": 4,
 "nbformat_minor": 2
}

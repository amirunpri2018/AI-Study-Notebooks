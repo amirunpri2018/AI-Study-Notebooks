{
 "cells": [
  {
   "cell_type": "code",
   "execution_count": 14,
   "metadata": {},
   "outputs": [
    {
     "data": {
      "text/plain": [
       "{'divide': 'raise', 'over': 'raise', 'under': 'raise', 'invalid': 'raise'}"
      ]
     },
     "execution_count": 14,
     "metadata": {},
     "output_type": "execute_result"
    }
   ],
   "source": [
    "from random import shuffle \n",
    "import numpy as np\n",
    "import matplotlib.pyplot as plt\n",
    "import pandas as pd\n",
    "import nltk\n",
    "from nltk.corpus import movie_reviews \n",
    "\n",
    "%matplotlib inline\n",
    "\n",
    "np.seterr(all='raise')\n",
    "\n",
    "# Download if you don't have already!\n",
    "# nltk.download('movie_reviews')"
   ]
  },
  {
   "cell_type": "code",
   "execution_count": 15,
   "metadata": {},
   "outputs": [
    {
     "name": "stdout",
     "output_type": "stream",
     "text": [
      "['neg', 'pos']\n",
      "1000\n",
      "1000\n"
     ]
    }
   ],
   "source": [
    "# Review categories\n",
    "print (movie_reviews.categories()) # Output: [u'neg', u'pos']\n",
    " \n",
    "# Total positive reviews\n",
    "print (len(movie_reviews.fileids('pos'))) # Output: 1000\n",
    " \n",
    "# Total negative reviews\n",
    "print (len(movie_reviews.fileids('neg'))) # Output: 1000\n",
    "\n",
    "documents = []\n",
    "for category in movie_reviews.categories():\n",
    "    for fileid in movie_reviews.fileids(category):\n",
    "        #documents.append((list(movie_reviews.words(fileid)), category))\n",
    "        documents.append((movie_reviews.words(fileid), category))\n",
    "shuffle(documents)"
   ]
  },
  {
   "cell_type": "code",
   "execution_count": 23,
   "metadata": {},
   "outputs": [
    {
     "name": "stdout",
     "output_type": "stream",
     "text": [
      "pos : jack nicholson has a funny way of playing characters with very few redeeming qualities , but whom yo ...\n",
      "neg : capsule : this super - light situation comedy from sweden tells the story of two close friends with  ...\n",
      "pos : blade is the movie that shows that wesley snipes really can live up to his potential as one of holly ...\n",
      "pos : in recent years , harrison ford has been such a grave screen presence , scowling through the likes o ...\n",
      "pos : billy bob thornton , who had a sudden rise to fame with 1996 ' s sling blade after spending years as ...\n",
      "neg : it ' s actually not so bad that dreamworks decided to release the love letter at about the same time ...\n",
      "pos : just in time for halloween and christmas , the reissue of the nightmare before christmas couldn ' t  ...\n",
      "pos : with the abundance of trite , recycled movies in the late ' 90s , there is a tremendous demand by mo ...\n",
      "neg : a disappointing biography about the homosexual relationship of two famous 19th century french poets  ...\n",
      "pos : since most movies about slavery shield us from the true horrors of what they ' re portraying , it '  ...\n"
     ]
    }
   ],
   "source": [
    "for i in range(10):\n",
    "    print(documents[i][1], \":\", \" \".join(documents[i][0])[:100], \"...\")"
   ]
  },
  {
   "cell_type": "code",
   "execution_count": null,
   "metadata": {},
   "outputs": [],
   "source": []
  }
 ],
 "metadata": {
  "kernelspec": {
   "display_name": "Python 3",
   "language": "python",
   "name": "python3"
  },
  "language_info": {
   "codemirror_mode": {
    "name": "ipython",
    "version": 3
   },
   "file_extension": ".py",
   "mimetype": "text/x-python",
   "name": "python",
   "nbconvert_exporter": "python",
   "pygments_lexer": "ipython3",
   "version": "3.7.5"
  }
 },
 "nbformat": 4,
 "nbformat_minor": 4
}

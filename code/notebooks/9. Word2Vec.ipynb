{
 "cells": [
  {
   "cell_type": "markdown",
   "metadata": {},
   "source": [
    "## Word2Vec\n",
    "\n",
    "A shallow NN that can generate a vector space (latent space) for words in a corpus. There are two main architectures:\n",
    " - **CBOW**: Given the surround words, try to predict the center word.\n",
    " - **Skip-Gram**: Given a word try to predict the surround words.\n",
    "\n",
    "Also, for better performance different techniques were suggest:\n",
    " - **Negative Sampling**\n",
    " - **Hierarchical Softmax**\n",
    " \n",
    "## References\n",
    "\n",
    "#### Papers\n",
    "\n",
    " - [Efficient Estimation of Word Representations in Vector Space](http://arxiv.org/pdf/1301.3781.pdf)\n",
    " - [Distributed Representations of Words and Phrases and their Compositionality](http://arxiv.org/pdf/1310.4546.pdf)\n",
    " - [word2vec Parameter Learning Explained](https://arxiv.org/pdf/1411.2738)\n",
    " - [Distributed Representations of Sentences and Documents](https://arxiv.org/pdf/1405.4053)\n",
    "\n",
    "#### Blogs\n",
    " - [Word2Vec Resources](http://mccormickml.com/2016/04/27/word2vec-resources/)\n",
    " - [Python implementation of Word2Vec](http://www.claudiobellei.com/2018/01/07/backprop-word2vec-python/)\n",
    " - [The backpropagation algorithm for Word2Vec ](http://www.claudiobellei.com/2018/01/06/backprop-word2vec/)\n",
    " - [Word2vec from Scratch with NumPy](https://towardsdatascience.com/word2vec-from-scratch-with-numpy-8786ddd49e72)\n",
    " - [An implementation guide to Word2Vec using NumPy and Google Sheets](https://towardsdatascience.com/an-implementation-guide-to-word2vec-using-numpy-and-google-sheets-13445eebd281)\n",
    " - [Word2vec from Scratch with Python and NumPy](https://nathanrooy.github.io/posts/2018-03-22/word2vec-from-scratch-with-python-and-numpy/)"
   ]
  },
  {
   "cell_type": "code",
   "execution_count": 1,
   "metadata": {},
   "outputs": [],
   "source": [
    "from enum import Enum\n",
    "from collections import defaultdict, Counter\n",
    "import numpy as np\n",
    "from scipy.special import softmax, expit as sigmoid\n",
    "import matplotlib.pyplot as plt\n",
    "from mpl_toolkits.mplot3d import Axes3D\n",
    "import pandas as pd\n",
    "from sklearn.metrics.pairwise import cosine_similarity, euclidean_distances\n",
    "from sklearn.preprocessing import normalize, MinMaxScaler\n",
    "from numba import jit\n",
    "\n",
    "DETERMINISTIC = 42\n",
    "\n",
    "np.seterr(all='raise')\n",
    "np.random.seed(DETERMINISTIC)"
   ]
  },
  {
   "cell_type": "code",
   "execution_count": 2,
   "metadata": {},
   "outputs": [],
   "source": [
    "corpus = \"\"\"\n",
    "king man.\n",
    "queen woman.\n",
    "man male.\n",
    "woman female.\n",
    "\"\"\""
   ]
  },
  {
   "cell_type": "code",
   "execution_count": 3,
   "metadata": {},
   "outputs": [
    {
     "name": "stdout",
     "output_type": "stream",
     "text": [
      "Epoch 51/150 ====> Loss: 3.87347\n",
      "Epoch 101/150 ====> Loss: 3.31493\n",
      "Epoch 150/150 ====> Loss: 3.2202\n"
     ]
    },
    {
     "data": {
      "image/png": "[encoded data removed]",
      "text/plain": [
       "<Figure size 432x288 with 1 Axes>"
      ]
     },
     "metadata": {
      "needs_background": "light"
     },
     "output_type": "display_data"
    }
   ],
   "source": [
    "class Word2VecModel(Enum):\n",
    "    SKIP_GRAM = 1\n",
    "    CBOW = 2\n",
    "\n",
    "\n",
    "class Word2Vec:\n",
    "    \n",
    "    def __init__(self, \n",
    "                 model=Word2VecModel.SKIP_GRAM,\n",
    "                 learning_rate=1e-1,\n",
    "                 window=3,\n",
    "                 latent_space=5,\n",
    "                 norm=True\n",
    "    ):\n",
    "        self.model = model\n",
    "        self.window = window\n",
    "        self.lr = learning_rate\n",
    "        self.lt = latent_space\n",
    "        self.norm = norm\n",
    "       \n",
    "    def tokenizer(self, corpus):\n",
    "        phrases = corpus.strip().lower().split(\".\")\n",
    "        return [words.strip().split() for words in phrases if len(words) > 0]\n",
    "\n",
    "    def __generate_indexes(self, corpus):\n",
    "        word_counts = defaultdict(int)\n",
    "        for phrases in corpus:\n",
    "            for word in phrases:\n",
    "                word_counts[word] += 1\n",
    "        v_count = len(word_counts.keys())\n",
    "\n",
    "        words_list = list(word_counts.keys())\n",
    "        word_index = dict((word, i) for i, word in enumerate(words_list))\n",
    "        index_word = dict((i, word) for i, word in enumerate(words_list))\n",
    "        return v_count, word_index, index_word\n",
    "    \n",
    "    def generate_embedding(self, corpus):\n",
    "        self.v_count, self.word_index, self.index_word = self.__generate_indexes(corpus)\n",
    "\n",
    "        keys = list(self.word_index.keys())\n",
    "        oneHotEncoded = pd.get_dummies(keys)\n",
    "\n",
    "        X, y = [], []\n",
    "        for sentence in corpus:\n",
    "            sent_len = len(sentence)\n",
    "            for i, word in enumerate(sentence):\n",
    "                w_target = oneHotEncoded[word].to_numpy()\n",
    "                w_context = []\n",
    "                for j in range(i-self.window, i+self.window+1):\n",
    "                    if j!=i and j<=sent_len-1 and j>=0:\n",
    "                        w_context += [oneHotEncoded[sentence[j]].to_numpy()]\n",
    "                X += [w_target]\n",
    "                y += [w_context]\n",
    "        return np.asarray(X), y\n",
    "    \n",
    "    def __forward(self, bx):\n",
    "        h = np.matmul(self.w1.T, bx) + self.b1\n",
    "        u = np.matmul(self.w2.T, h) + self.b2\n",
    "        return h, u, softmax(u, axis=0)\n",
    "    \n",
    "    def __backprop(self, dZ2, h, u, bx):\n",
    "        dW2 = np.outer(h, dZ2)\n",
    "        dB2 = np.sum(dZ2, axis=0)\n",
    "        dZ1 = np.matmul(self.w2, dZ2)\n",
    "        dW1 = np.outer(bx, dZ1)\n",
    "        dB1 = np.sum(dZ1, axis=0)\n",
    "        return dW1, dB1, dW2, dB2\n",
    "\n",
    "    def __loss(self, u, bx, by):\n",
    "        if self.model == Word2VecModel.SKIP_GRAM:\n",
    "            k = [u[label == 1] if u[label == 1].size > 0 else 0 for label in by]\n",
    "            return -np.sum(k) + len(by) * np.log(np.sum(np.exp(u)))\n",
    "        elif self.model == Word2VecModel.CBOW:\n",
    "            return -float(u[bx == 1]) + np.log(np.sum(np.exp(u)))\n",
    "    \n",
    "    def train(self, X, y, epochs=150, show_iter_err=50):\n",
    "        size = X.shape[1]\n",
    "        \n",
    "        self.w1 = np.random.randn(size, self.lt) * np.sqrt(2 / (size + self.lt))\n",
    "        self.w2 = np.random.randn(self.lt, size) * np.sqrt(2 / (self.lt + size))\n",
    "        self.b1 = np.zeros((self.lt, ))\n",
    "        self.b2 = np.zeros((size, ))\n",
    "        \n",
    "        _loss = []\n",
    "        for epoch in range(epochs):\n",
    "            loss = 0\n",
    "            for bx, by in zip(X, y):\n",
    "                # Forward\n",
    "                if self.model == Word2VecModel.SKIP_GRAM:\n",
    "                    x = np.copy(bx)\n",
    "                elif self.model == Word2VecModel.CBOW:\n",
    "                    x = np.mean(by, axis=0)\n",
    "                h, u, yh = self.__forward(x)\n",
    "                    \n",
    "                # Backpropagation\n",
    "                if self.model == Word2VecModel.SKIP_GRAM:\n",
    "                    dZ2 = np.sum(yh - by, axis=0)\n",
    "                elif self.model == Word2VecModel.CBOW:\n",
    "                    dZ2 = yh - bx\n",
    "                dW1, dB1, dW2, dB2 = self.__backprop(dZ2, h, u, x)\n",
    "                \n",
    "                # Update weights\n",
    "                self.w1 -= self.lr * dW1\n",
    "                self.b1 -= self.lr * dB1\n",
    "                self.w2 -= self.lr * dW2\n",
    "                self.b2 -= self.lr * dB2\n",
    "                \n",
    "                # Cost / Loss function\n",
    "                loss += self.__loss(u, bx, by)\n",
    "            _loss += [loss]\n",
    "            if epoch % show_iter_err == 0 and epoch > 1:\n",
    "                print(f\"Epoch {epoch + 1}/{epochs} ====> Loss: {np.round(loss, 5)}\")\n",
    "        print(f\"Epoch {epochs}/{epochs} ====> Loss: {np.round(loss, 5)}\")\n",
    "        \n",
    "        if self.norm:\n",
    "            self.wv = MinMaxScaler().fit_transform(self.w1)\n",
    "        return _loss\n",
    "\n",
    "    def find_similar(self, word, topn=10):\n",
    "        word = self.word_index.get(word, None)\n",
    "        if word is not None:\n",
    "            c_wv = self.wv[word, :]\n",
    "            sim = cosine_similarity(wv, [c_wv])\n",
    "            words = list(zip(index_word.values(), sim.tolist()))\n",
    "            words = sorted(words, key=lambda x: x[1], reverse=True)\n",
    "            return words[:topn]\n",
    "        return None\n",
    "    \n",
    "    def find_word(self, vector, topn=2):\n",
    "        sim = euclidean_distances(self.wv, [vector], squared=True)\n",
    "        return sorted(list(zip(self.index_word.values(), sim.tolist())), key=lambda x: x[1], reverse=False)[:topn]\n",
    "\n",
    "\n",
    "w2v = Word2Vec(latent_space=2)\n",
    "corpus = w2v.tokenizer(corpus)\n",
    "X, y = w2v.generate_embedding(corpus)\n",
    "loss = w2v.train(X, y)\n",
    "\n",
    "plt.title(f\"Last loss: {np.round(loss[-1], 2)}\")\n",
    "plt.plot(loss)\n",
    "plt.show()"
   ]
  },
  {
   "cell_type": "code",
   "execution_count": 4,
   "metadata": {},
   "outputs": [
    {
     "name": "stdout",
     "output_type": "stream",
     "text": [
      "[[0.01133449 0.44907111]\n",
      " [0.50788999 1.        ]\n",
      " [0.56256227 0.007821  ]\n",
      " [1.         0.59063904]\n",
      " [0.         0.45269897]\n",
      " [0.5553712  0.        ]]\n"
     ]
    }
   ],
   "source": [
    "wv = w2v.wv\n",
    "word_index = w2v.word_index\n",
    "index_word = w2v.index_word\n",
    "print(wv)"
   ]
  },
  {
   "cell_type": "code",
   "execution_count": 5,
   "metadata": {},
   "outputs": [
    {
     "data": {
      "image/png": "[encoded data removed]",
      "text/plain": [
       "<Figure size 576x360 with 1 Axes>"
      ]
     },
     "metadata": {
      "needs_background": "light"
     },
     "output_type": "display_data"
    }
   ],
   "source": [
    "plt.figure(figsize=(8, 5))\n",
    "ax = plt.subplot(1, 1, 1) #, projection='3d')\n",
    "plt.scatter(wv[:, 0], wv[:, 1], marker='o', color='C0')\n",
    "for i, txt in enumerate(w2v.word_index):\n",
    "    plt.annotate(txt, (wv[i, 0], wv[i, 1]))\n",
    "\n",
    "c_wv = wv[word_index[\"man\"], :] + wv[word_index[\"queen\"], :] - wv[word_index[\"woman\"], :]\n",
    "plt.scatter(c_wv[0], c_wv[1], marker='x', color='C1')\n",
    "c_wv = wv[word_index[\"woman\"], :] - wv[word_index[\"female\"], :]\n",
    "plt.scatter(c_wv[0], c_wv[1], marker='+', color='C2')\n",
    "plt.show()"
   ]
  },
  {
   "cell_type": "code",
   "execution_count": 6,
   "metadata": {},
   "outputs": [
    {
     "name": "stdout",
     "output_type": "stream",
     "text": [
      "[('king', [0.004511828269042117]), ('male', [0.0062249787208106255])]\n",
      "\n",
      "[('man', [0.17157837653292896]), ('king', [0.2077854383290919])]\n",
      "\n",
      "Closest words to: king\n",
      "[('king', [1.0]), ('male', [0.9996816268304719])]\n"
     ]
    }
   ],
   "source": [
    "c_wv = wv[word_index[\"man\"], :] + wv[word_index[\"queen\"], :] - wv[word_index[\"woman\"], :]\n",
    "print(w2v.find_word(c_wv))\n",
    "\n",
    "print()\n",
    "c_wv = wv[word_index[\"woman\"], :] - wv[word_index[\"female\"], :]\n",
    "print(w2v.find_word(c_wv))\n",
    "\n",
    "print()\n",
    "word = \"king\"\n",
    "print(f\"Closest words to: {word}\")\n",
    "print(w2v.find_similar(word, topn=2))"
   ]
  },
  {
   "cell_type": "code",
   "execution_count": null,
   "metadata": {},
   "outputs": [],
   "source": []
  }
 ],
 "metadata": {
  "kernelspec": {
   "display_name": "Python 3",
   "language": "python",
   "name": "python3"
  },
  "language_info": {
   "codemirror_mode": {
    "name": "ipython",
    "version": 3
   },
   "file_extension": ".py",
   "mimetype": "text/x-python",
   "name": "python",
   "nbconvert_exporter": "python",
   "pygments_lexer": "ipython3",
   "version": "3.8.1"
  }
 },
 "nbformat": 4,
 "nbformat_minor": 4
}
